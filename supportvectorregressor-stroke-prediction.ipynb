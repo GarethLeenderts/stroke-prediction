{
 "cells": [
  {
   "cell_type": "code",
   "execution_count": 1,
   "id": "emotional-schema",
   "metadata": {
    "_cell_guid": "b1076dfc-b9ad-4769-8c92-a6c4dae69d19",
    "_uuid": "8f2839f25d086af736a60e9eeb907d3b93b6e0e5",
    "execution": {
     "iopub.execute_input": "2021-06-02T07:54:56.476512Z",
     "iopub.status.busy": "2021-06-02T07:54:56.475856Z",
     "iopub.status.idle": "2021-06-02T07:54:56.499423Z",
     "shell.execute_reply": "2021-06-02T07:54:56.499895Z",
     "shell.execute_reply.started": "2021-06-02T07:24:01.750489Z"
    },
    "papermill": {
     "duration": 0.043226,
     "end_time": "2021-06-02T07:54:56.500224",
     "exception": false,
     "start_time": "2021-06-02T07:54:56.456998",
     "status": "completed"
    },
    "tags": []
   },
   "outputs": [
    {
     "name": "stdout",
     "output_type": "stream",
     "text": [
      "/kaggle/input/stroke-data-engineered/stroke_data_engineered.csv\n",
      "/kaggle/input/stroke-data-engineered/stroke_data_engineered_2.csv\n",
      "/kaggle/input/stroke-prediction-dataset/healthcare-dataset-stroke-data.csv\n"
     ]
    }
   ],
   "source": [
    "# This Python 3 environment comes with many helpful analytics libraries installed\n",
    "# It is defined by the kaggle/python Docker image: https://github.com/kaggle/docker-python\n",
    "# For example, here's several helpful packages to load\n",
    "\n",
    "import numpy as np # linear algebra\n",
    "import pandas as pd # data processing, CSV file I/O (e.g. pd.read_csv)\n",
    "\n",
    "# Input data files are available in the read-only \"../input/\" directory\n",
    "# For example, running this (by clicking run or pressing Shift+Enter) will list all files under the input directory\n",
    "\n",
    "import os\n",
    "for dirname, _, filenames in os.walk('/kaggle/input'):\n",
    "    for filename in filenames:\n",
    "        print(os.path.join(dirname, filename))\n",
    "\n",
    "# You can write up to 20GB to the current directory (/kaggle/working/) that gets preserved as output when you create a version using \"Save & Run All\" \n",
    "# You can also write temporary files to /kaggle/temp/, but they won't be saved outside of the current session"
   ]
  },
  {
   "cell_type": "code",
   "execution_count": 2,
   "id": "regulation-winning",
   "metadata": {
    "execution": {
     "iopub.execute_input": "2021-06-02T07:54:56.523961Z",
     "iopub.status.busy": "2021-06-02T07:54:56.523389Z",
     "iopub.status.idle": "2021-06-02T07:54:57.746561Z",
     "shell.execute_reply": "2021-06-02T07:54:57.745934Z",
     "shell.execute_reply.started": "2021-06-02T07:24:01.776031Z"
    },
    "papermill": {
     "duration": 1.236651,
     "end_time": "2021-06-02T07:54:57.746737",
     "exception": false,
     "start_time": "2021-06-02T07:54:56.510086",
     "status": "completed"
    },
    "tags": []
   },
   "outputs": [],
   "source": [
    "import matplotlib.pyplot as plt\n",
    "import seaborn as sns\n",
    "\n",
    "from sklearn.svm import SVR\n",
    "from sklearn.metrics import classification_report, confusion_matrix\n",
    "from sklearn.model_selection import GridSearchCV, RandomizedSearchCV, train_test_split"
   ]
  },
  {
   "cell_type": "code",
   "execution_count": 3,
   "id": "balanced-party",
   "metadata": {
    "execution": {
     "iopub.execute_input": "2021-06-02T07:54:57.780741Z",
     "iopub.status.busy": "2021-06-02T07:54:57.780105Z",
     "iopub.status.idle": "2021-06-02T07:54:57.854920Z",
     "shell.execute_reply": "2021-06-02T07:54:57.853751Z",
     "shell.execute_reply.started": "2021-06-02T07:24:02.837329Z"
    },
    "papermill": {
     "duration": 0.090399,
     "end_time": "2021-06-02T07:54:57.855088",
     "exception": false,
     "start_time": "2021-06-02T07:54:57.764689",
     "status": "completed"
    },
    "tags": []
   },
   "outputs": [],
   "source": [
    "stroke_data = pd.read_csv(\"../input/stroke-data-engineered/stroke_data_engineered_2.csv\")"
   ]
  },
  {
   "cell_type": "code",
   "execution_count": 4,
   "id": "sufficient-aircraft",
   "metadata": {
    "execution": {
     "iopub.execute_input": "2021-06-02T07:54:57.889723Z",
     "iopub.status.busy": "2021-06-02T07:54:57.888963Z",
     "iopub.status.idle": "2021-06-02T07:54:57.896691Z",
     "shell.execute_reply": "2021-06-02T07:54:57.897134Z",
     "shell.execute_reply.started": "2021-06-02T07:24:02.911886Z"
    },
    "papermill": {
     "duration": 0.033069,
     "end_time": "2021-06-02T07:54:57.897316",
     "exception": false,
     "start_time": "2021-06-02T07:54:57.864247",
     "status": "completed"
    },
    "tags": []
   },
   "outputs": [],
   "source": [
    "X_train, X_test, y_train, y_test = train_test_split(stroke_data.drop(columns=[\"id\", \"stroke\"]),\n",
    "                                                    stroke_data['stroke'], \n",
    "                                                    test_size=0.5, \n",
    "                                                    random_state=125)"
   ]
  },
  {
   "cell_type": "markdown",
   "id": "moving-event",
   "metadata": {
    "papermill": {
     "duration": 0.009061,
     "end_time": "2021-06-02T07:54:57.915511",
     "exception": false,
     "start_time": "2021-06-02T07:54:57.906450",
     "status": "completed"
    },
    "tags": []
   },
   "source": [
    "**Hyperparameter Optimisation**"
   ]
  },
  {
   "cell_type": "code",
   "execution_count": 5,
   "id": "earlier-favorite",
   "metadata": {
    "execution": {
     "iopub.execute_input": "2021-06-02T07:54:57.940273Z",
     "iopub.status.busy": "2021-06-02T07:54:57.939341Z",
     "iopub.status.idle": "2021-06-02T07:54:57.941592Z",
     "shell.execute_reply": "2021-06-02T07:54:57.942075Z",
     "shell.execute_reply.started": "2021-06-02T07:24:02.933784Z"
    },
    "papermill": {
     "duration": 0.017433,
     "end_time": "2021-06-02T07:54:57.942252",
     "exception": false,
     "start_time": "2021-06-02T07:54:57.924819",
     "status": "completed"
    },
    "tags": []
   },
   "outputs": [],
   "source": [
    "param_grid = {'C': [0.01, 0.1,1, 10, 100, 1000, 5000, 10000, 20000], \n",
    "              'gamma': [10, 1,0.1,0.01,0.001,0.0001, 0.00001, 0.000001], \n",
    "              'kernel': ['rbf'],\n",
    "             }\n",
    "\n",
    "model = SVR()\n",
    "\n",
    "grid = RandomizedSearchCV(model, param_grid, scoring=\"neg_mean_squared_error\", verbose=3, cv=10)"
   ]
  },
  {
   "cell_type": "code",
   "execution_count": 6,
   "id": "central-knight",
   "metadata": {
    "execution": {
     "iopub.execute_input": "2021-06-02T07:54:57.964198Z",
     "iopub.status.busy": "2021-06-02T07:54:57.963318Z",
     "iopub.status.idle": "2021-06-02T07:54:57.966528Z",
     "shell.execute_reply": "2021-06-02T07:54:57.966948Z",
     "shell.execute_reply.started": "2021-06-02T07:24:02.940336Z"
    },
    "papermill": {
     "duration": 0.015794,
     "end_time": "2021-06-02T07:54:57.967147",
     "exception": false,
     "start_time": "2021-06-02T07:54:57.951353",
     "status": "completed"
    },
    "tags": []
   },
   "outputs": [],
   "source": [
    "# %%time\n",
    "# grid.fit(X_train,y_train)"
   ]
  },
  {
   "cell_type": "code",
   "execution_count": 7,
   "id": "polar-cleaning",
   "metadata": {
    "execution": {
     "iopub.execute_input": "2021-06-02T07:54:57.989032Z",
     "iopub.status.busy": "2021-06-02T07:54:57.988189Z",
     "iopub.status.idle": "2021-06-02T07:54:57.991557Z",
     "shell.execute_reply": "2021-06-02T07:54:57.992018Z",
     "shell.execute_reply.started": "2021-06-02T07:24:02.950700Z"
    },
    "papermill": {
     "duration": 0.015732,
     "end_time": "2021-06-02T07:54:57.992181",
     "exception": false,
     "start_time": "2021-06-02T07:54:57.976449",
     "status": "completed"
    },
    "tags": []
   },
   "outputs": [],
   "source": [
    "# grid.best_params_"
   ]
  },
  {
   "cell_type": "markdown",
   "id": "regional-polyester",
   "metadata": {
    "papermill": {
     "duration": 0.008871,
     "end_time": "2021-06-02T07:54:58.010328",
     "exception": false,
     "start_time": "2021-06-02T07:54:58.001457",
     "status": "completed"
    },
    "tags": []
   },
   "source": [
    "**Best parameters:** {'C': 0.1, 'gamma': 1e-06, 'kernel': 'rbf'}\n",
    "\n",
    "{'kernel': 'rbf', 'gamma': 0.01, 'C': 10000}\n",
    "\n",
    "\n",
    "**End of Hyperparameter Optimisation**"
   ]
  },
  {
   "cell_type": "markdown",
   "id": "combined-greenhouse",
   "metadata": {
    "papermill": {
     "duration": 0.008981,
     "end_time": "2021-06-02T07:54:58.028442",
     "exception": false,
     "start_time": "2021-06-02T07:54:58.019461",
     "status": "completed"
    },
    "tags": []
   },
   "source": [
    "The best parameters above ended up not working that great, so I played around with the parameters a little. The goal being to spread the graph(below) out a little, in order to make it easier to decide on a threshold.\n",
    "\n",
    "Results are not bad, but there was a lot of experimenting(which we could consider a target leakage). However, I believe the method of looking at the distribution and deciding on a threshold could work well since you are not getting any target leakage, and only looking at your predictions.\n",
    "\n",
    "Parameters I settled on: {'kernel': 'rbf', 'gamma': 0.0000001, 'C': 20000}"
   ]
  },
  {
   "cell_type": "code",
   "execution_count": 8,
   "id": "super-washington",
   "metadata": {
    "execution": {
     "iopub.execute_input": "2021-06-02T07:54:58.055930Z",
     "iopub.status.busy": "2021-06-02T07:54:58.054922Z",
     "iopub.status.idle": "2021-06-02T07:55:32.541037Z",
     "shell.execute_reply": "2021-06-02T07:55:32.541480Z",
     "shell.execute_reply.started": "2021-06-02T07:35:36.397533Z"
    },
    "papermill": {
     "duration": 34.503949,
     "end_time": "2021-06-02T07:55:32.541636",
     "exception": false,
     "start_time": "2021-06-02T07:54:58.037687",
     "status": "completed"
    },
    "tags": []
   },
   "outputs": [
    {
     "name": "stdout",
     "output_type": "stream",
     "text": [
      "CPU times: user 34.5 s, sys: 11.4 ms, total: 34.5 s\n",
      "Wall time: 34.5 s\n"
     ]
    }
   ],
   "source": [
    "%%time\n",
    "model = SVR(C=20000, gamma=0.0000001, kernel='rbf')\n",
    "\n",
    "model.fit(X_train, y_train)\n",
    "\n",
    "predictions = model.predict(X_test)"
   ]
  },
  {
   "cell_type": "code",
   "execution_count": 9,
   "id": "effective-cancer",
   "metadata": {
    "execution": {
     "iopub.execute_input": "2021-06-02T07:55:32.577535Z",
     "iopub.status.busy": "2021-06-02T07:55:32.576924Z",
     "iopub.status.idle": "2021-06-02T07:55:32.792094Z",
     "shell.execute_reply": "2021-06-02T07:55:32.791489Z",
     "shell.execute_reply.started": "2021-06-02T07:44:32.312289Z"
    },
    "papermill": {
     "duration": 0.241397,
     "end_time": "2021-06-02T07:55:32.792229",
     "exception": false,
     "start_time": "2021-06-02T07:55:32.550832",
     "status": "completed"
    },
    "tags": []
   },
   "outputs": [
    {
     "data": {
      "image/png": "[encoded data removed]",
      "text/plain": [
       "<Figure size 432x288 with 1 Axes>"
      ]
     },
     "metadata": {
      "needs_background": "light"
     },
     "output_type": "display_data"
    }
   ],
   "source": [
    "plt.hist(predictions, bins=50, range=[-0.5,0.5])\n",
    "plt.title(\"Distribution of Predictions\")\n",
    "plt.ylabel(\"Count\")\n",
    "plt.show()"
   ]
  },
  {
   "cell_type": "code",
   "execution_count": 10,
   "id": "regulated-builder",
   "metadata": {
    "execution": {
     "iopub.execute_input": "2021-06-02T07:55:32.818224Z",
     "iopub.status.busy": "2021-06-02T07:55:32.817662Z",
     "iopub.status.idle": "2021-06-02T07:55:32.821633Z",
     "shell.execute_reply": "2021-06-02T07:55:32.822028Z",
     "shell.execute_reply.started": "2021-06-02T07:37:21.206950Z"
    },
    "papermill": {
     "duration": 0.019631,
     "end_time": "2021-06-02T07:55:32.822195",
     "exception": false,
     "start_time": "2021-06-02T07:55:32.802564",
     "status": "completed"
    },
    "tags": []
   },
   "outputs": [],
   "source": [
    "# set predictions in the interval (-0.2, 0.1) to zero, and one otherwise\n",
    "# interval chosen by analysing the distribution of predictions above\n",
    "\n",
    "predict = []\n",
    "for pred in predictions.tolist():\n",
    "    if -0.2 < pred < 0.2:\n",
    "        predict.append(0)\n",
    "    else:\n",
    "        predict.append(1)\n",
    "\n",
    "predict = np.array(predict)"
   ]
  },
  {
   "cell_type": "code",
   "execution_count": 11,
   "id": "usual-india",
   "metadata": {
    "execution": {
     "iopub.execute_input": "2021-06-02T07:55:32.846484Z",
     "iopub.status.busy": "2021-06-02T07:55:32.845903Z",
     "iopub.status.idle": "2021-06-02T07:55:32.857117Z",
     "shell.execute_reply": "2021-06-02T07:55:32.856326Z",
     "shell.execute_reply.started": "2021-06-02T07:37:39.968178Z"
    },
    "papermill": {
     "duration": 0.024903,
     "end_time": "2021-06-02T07:55:32.857292",
     "exception": false,
     "start_time": "2021-06-02T07:55:32.832389",
     "status": "completed"
    },
    "tags": []
   },
   "outputs": [
    {
     "name": "stdout",
     "output_type": "stream",
     "text": [
      "              precision    recall  f1-score   support\n",
      "\n",
      "           0       0.97      0.77      0.86      2428\n",
      "           1       0.12      0.58      0.19       127\n",
      "\n",
      "    accuracy                           0.76      2555\n",
      "   macro avg       0.54      0.68      0.53      2555\n",
      "weighted avg       0.93      0.76      0.83      2555\n",
      "\n"
     ]
    }
   ],
   "source": [
    "print(classification_report(y_test, predict))"
   ]
  },
  {
   "cell_type": "code",
   "execution_count": 12,
   "id": "worthy-anderson",
   "metadata": {
    "execution": {
     "iopub.execute_input": "2021-06-02T07:55:32.884354Z",
     "iopub.status.busy": "2021-06-02T07:55:32.883728Z",
     "iopub.status.idle": "2021-06-02T07:55:33.072963Z",
     "shell.execute_reply": "2021-06-02T07:55:33.072365Z",
     "shell.execute_reply.started": "2021-06-02T07:37:42.767792Z"
    },
    "papermill": {
     "duration": 0.204655,
     "end_time": "2021-06-02T07:55:33.073116",
     "exception": false,
     "start_time": "2021-06-02T07:55:32.868461",
     "status": "completed"
    },
    "tags": []
   },
   "outputs": [
    {
     "data": {
      "text/plain": [
       "Text(0.5, 1.0, 'Confusion Matrix for Support Vector Regressor Prediction')"
      ]
     },
     "execution_count": 12,
     "metadata": {},
     "output_type": "execute_result"
    },
    {
     "data": {
      "image/png": "[encoded data removed]",
      "text/plain": [
       "<Figure size 1008x504 with 2 Axes>"
      ]
     },
     "metadata": {
      "needs_background": "light"
     },
     "output_type": "display_data"
    }
   ],
   "source": [
    "conf_matrix = confusion_matrix(y_test, predict)\n",
    "\n",
    "plt.figure(figsize=(14,7))\n",
    "sns.heatmap(conf_matrix, annot=True, fmt='g', cbar=True, cmap='Blues')\n",
    "plt.xlabel(\"Predicted Label\")\n",
    "plt.ylabel(\"True Label\")\n",
    "plt.title(\"Confusion Matrix for Support Vector Regressor Prediction\")"
   ]
  }
 ],
 "metadata": {
  "kernelspec": {
   "display_name": "Python 3",
   "language": "python",
   "name": "python3"
  },
  "language_info": {
   "codemirror_mode": {
    "name": "ipython",
    "version": 3
   },
   "file_extension": ".py",
   "mimetype": "text/x-python",
   "name": "python",
   "nbconvert_exporter": "python",
   "pygments_lexer": "ipython3",
   "version": "3.7.10"
  },
  "papermill": {
   "default_parameters": {},
   "duration": 45.86455,
   "end_time": "2021-06-02T07:55:34.765057",
   "environment_variables": {},
   "exception": null,
   "input_path": "__notebook__.ipynb",
   "output_path": "__notebook__.ipynb",
   "parameters": {},
   "start_time": "2021-06-02T07:54:48.900507",
   "version": "2.3.3"
  }
 },
 "nbformat": 4,
 "nbformat_minor": 5
}
